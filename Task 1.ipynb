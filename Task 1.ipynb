{
 "cells": [
  {
   "metadata": {
    "ExecuteTime": {
     "end_time": "2025-09-20T16:37:15.069575Z",
     "start_time": "2025-09-20T16:37:15.063703Z"
    }
   },
   "cell_type": "code",
   "source": [
    "import numpy as np\n",
    "import pandas as pd\n",
    "import matplotlib.pyplot as plt\n",
    "from sklearn.linear_model import LinearRegression\n",
    "from sklearn.model_selection import train_test_split"
   ],
   "id": "f8e04fb7b6cc06f9",
   "outputs": [],
   "execution_count": 5
  },
  {
   "metadata": {
    "ExecuteTime": {
     "end_time": "2025-09-20T16:37:15.134223Z",
     "start_time": "2025-09-20T16:37:15.094556Z"
    }
   },
   "cell_type": "code",
   "source": "df = pd.read_csv(\"D:\\Elovvo\\Task1_details\\StudentPerformanceFactors.csv\")",
   "id": "1fb4fcf3db8a4476",
   "outputs": [
    {
     "name": "stderr",
     "output_type": "stream",
     "text": [
      "<>:1: SyntaxWarning: invalid escape sequence '\\E'\n",
      "<>:1: SyntaxWarning: invalid escape sequence '\\E'\n",
      "C:\\Users\\Lion\\AppData\\Local\\Temp\\ipykernel_824\\887829606.py:1: SyntaxWarning: invalid escape sequence '\\E'\n",
      "  df = pd.read_csv(\"D:\\Elovvo\\Task1_details\\StudentPerformanceFactors.csv\")\n"
     ]
    }
   ],
   "execution_count": 6
  },
  {
   "metadata": {
    "ExecuteTime": {
     "end_time": "2025-09-20T16:37:15.338214Z",
     "start_time": "2025-09-20T16:37:15.296951Z"
    }
   },
   "cell_type": "code",
   "source": "df.head()",
   "id": "a8e5d5b2697b2757",
   "outputs": [
    {
     "data": {
      "text/plain": [
       "   Hours_Studied  Attendance Parental_Involvement Access_to_Resources  \\\n",
       "0             23          84                  Low                High   \n",
       "1             19          64                  Low              Medium   \n",
       "2             24          98               Medium              Medium   \n",
       "3             29          89                  Low              Medium   \n",
       "4             19          92               Medium              Medium   \n",
       "\n",
       "  Extracurricular_Activities  Sleep_Hours  Previous_Scores Motivation_Level  \\\n",
       "0                         No            7               73              Low   \n",
       "1                         No            8               59              Low   \n",
       "2                        Yes            7               91           Medium   \n",
       "3                        Yes            8               98           Medium   \n",
       "4                        Yes            6               65           Medium   \n",
       "\n",
       "  Internet_Access  Tutoring_Sessions Family_Income Teacher_Quality  \\\n",
       "0             Yes                  0           Low          Medium   \n",
       "1             Yes                  2        Medium          Medium   \n",
       "2             Yes                  2        Medium          Medium   \n",
       "3             Yes                  1        Medium          Medium   \n",
       "4             Yes                  3        Medium            High   \n",
       "\n",
       "  School_Type Peer_Influence  Physical_Activity Learning_Disabilities  \\\n",
       "0      Public       Positive                  3                    No   \n",
       "1      Public       Negative                  4                    No   \n",
       "2      Public        Neutral                  4                    No   \n",
       "3      Public       Negative                  4                    No   \n",
       "4      Public        Neutral                  4                    No   \n",
       "\n",
       "  Parental_Education_Level Distance_from_Home  Gender  Exam_Score  \n",
       "0              High School               Near    Male          67  \n",
       "1                  College           Moderate  Female          61  \n",
       "2             Postgraduate               Near    Male          74  \n",
       "3              High School           Moderate    Male          71  \n",
       "4                  College               Near  Female          70  "
      ],
      "text/html": [
       "<div>\n",
       "<style scoped>\n",
       "    .dataframe tbody tr th:only-of-type {\n",
       "        vertical-align: middle;\n",
       "    }\n",
       "\n",
       "    .dataframe tbody tr th {\n",
       "        vertical-align: top;\n",
       "    }\n",
       "\n",
       "    .dataframe thead th {\n",
       "        text-align: right;\n",
       "    }\n",
       "</style>\n",
       "<table border=\"1\" class=\"dataframe\">\n",
       "  <thead>\n",
       "    <tr style=\"text-align: right;\">\n",
       "      <th></th>\n",
       "      <th>Hours_Studied</th>\n",
       "      <th>Attendance</th>\n",
       "      <th>Parental_Involvement</th>\n",
       "      <th>Access_to_Resources</th>\n",
       "      <th>Extracurricular_Activities</th>\n",
       "      <th>Sleep_Hours</th>\n",
       "      <th>Previous_Scores</th>\n",
       "      <th>Motivation_Level</th>\n",
       "      <th>Internet_Access</th>\n",
       "      <th>Tutoring_Sessions</th>\n",
       "      <th>Family_Income</th>\n",
       "      <th>Teacher_Quality</th>\n",
       "      <th>School_Type</th>\n",
       "      <th>Peer_Influence</th>\n",
       "      <th>Physical_Activity</th>\n",
       "      <th>Learning_Disabilities</th>\n",
       "      <th>Parental_Education_Level</th>\n",
       "      <th>Distance_from_Home</th>\n",
       "      <th>Gender</th>\n",
       "      <th>Exam_Score</th>\n",
       "    </tr>\n",
       "  </thead>\n",
       "  <tbody>\n",
       "    <tr>\n",
       "      <th>0</th>\n",
       "      <td>23</td>\n",
       "      <td>84</td>\n",
       "      <td>Low</td>\n",
       "      <td>High</td>\n",
       "      <td>No</td>\n",
       "      <td>7</td>\n",
       "      <td>73</td>\n",
       "      <td>Low</td>\n",
       "      <td>Yes</td>\n",
       "      <td>0</td>\n",
       "      <td>Low</td>\n",
       "      <td>Medium</td>\n",
       "      <td>Public</td>\n",
       "      <td>Positive</td>\n",
       "      <td>3</td>\n",
       "      <td>No</td>\n",
       "      <td>High School</td>\n",
       "      <td>Near</td>\n",
       "      <td>Male</td>\n",
       "      <td>67</td>\n",
       "    </tr>\n",
       "    <tr>\n",
       "      <th>1</th>\n",
       "      <td>19</td>\n",
       "      <td>64</td>\n",
       "      <td>Low</td>\n",
       "      <td>Medium</td>\n",
       "      <td>No</td>\n",
       "      <td>8</td>\n",
       "      <td>59</td>\n",
       "      <td>Low</td>\n",
       "      <td>Yes</td>\n",
       "      <td>2</td>\n",
       "      <td>Medium</td>\n",
       "      <td>Medium</td>\n",
       "      <td>Public</td>\n",
       "      <td>Negative</td>\n",
       "      <td>4</td>\n",
       "      <td>No</td>\n",
       "      <td>College</td>\n",
       "      <td>Moderate</td>\n",
       "      <td>Female</td>\n",
       "      <td>61</td>\n",
       "    </tr>\n",
       "    <tr>\n",
       "      <th>2</th>\n",
       "      <td>24</td>\n",
       "      <td>98</td>\n",
       "      <td>Medium</td>\n",
       "      <td>Medium</td>\n",
       "      <td>Yes</td>\n",
       "      <td>7</td>\n",
       "      <td>91</td>\n",
       "      <td>Medium</td>\n",
       "      <td>Yes</td>\n",
       "      <td>2</td>\n",
       "      <td>Medium</td>\n",
       "      <td>Medium</td>\n",
       "      <td>Public</td>\n",
       "      <td>Neutral</td>\n",
       "      <td>4</td>\n",
       "      <td>No</td>\n",
       "      <td>Postgraduate</td>\n",
       "      <td>Near</td>\n",
       "      <td>Male</td>\n",
       "      <td>74</td>\n",
       "    </tr>\n",
       "    <tr>\n",
       "      <th>3</th>\n",
       "      <td>29</td>\n",
       "      <td>89</td>\n",
       "      <td>Low</td>\n",
       "      <td>Medium</td>\n",
       "      <td>Yes</td>\n",
       "      <td>8</td>\n",
       "      <td>98</td>\n",
       "      <td>Medium</td>\n",
       "      <td>Yes</td>\n",
       "      <td>1</td>\n",
       "      <td>Medium</td>\n",
       "      <td>Medium</td>\n",
       "      <td>Public</td>\n",
       "      <td>Negative</td>\n",
       "      <td>4</td>\n",
       "      <td>No</td>\n",
       "      <td>High School</td>\n",
       "      <td>Moderate</td>\n",
       "      <td>Male</td>\n",
       "      <td>71</td>\n",
       "    </tr>\n",
       "    <tr>\n",
       "      <th>4</th>\n",
       "      <td>19</td>\n",
       "      <td>92</td>\n",
       "      <td>Medium</td>\n",
       "      <td>Medium</td>\n",
       "      <td>Yes</td>\n",
       "      <td>6</td>\n",
       "      <td>65</td>\n",
       "      <td>Medium</td>\n",
       "      <td>Yes</td>\n",
       "      <td>3</td>\n",
       "      <td>Medium</td>\n",
       "      <td>High</td>\n",
       "      <td>Public</td>\n",
       "      <td>Neutral</td>\n",
       "      <td>4</td>\n",
       "      <td>No</td>\n",
       "      <td>College</td>\n",
       "      <td>Near</td>\n",
       "      <td>Female</td>\n",
       "      <td>70</td>\n",
       "    </tr>\n",
       "  </tbody>\n",
       "</table>\n",
       "</div>"
      ]
     },
     "execution_count": 7,
     "metadata": {},
     "output_type": "execute_result"
    }
   ],
   "execution_count": 7
  },
  {
   "metadata": {
    "ExecuteTime": {
     "end_time": "2025-09-20T16:37:15.543855Z",
     "start_time": "2025-09-20T16:37:15.496117Z"
    }
   },
   "cell_type": "code",
   "source": "df.info()",
   "id": "1b4659af1e16092d",
   "outputs": [
    {
     "name": "stdout",
     "output_type": "stream",
     "text": [
      "<class 'pandas.core.frame.DataFrame'>\n",
      "RangeIndex: 6607 entries, 0 to 6606\n",
      "Data columns (total 20 columns):\n",
      " #   Column                      Non-Null Count  Dtype \n",
      "---  ------                      --------------  ----- \n",
      " 0   Hours_Studied               6607 non-null   int64 \n",
      " 1   Attendance                  6607 non-null   int64 \n",
      " 2   Parental_Involvement        6607 non-null   object\n",
      " 3   Access_to_Resources         6607 non-null   object\n",
      " 4   Extracurricular_Activities  6607 non-null   object\n",
      " 5   Sleep_Hours                 6607 non-null   int64 \n",
      " 6   Previous_Scores             6607 non-null   int64 \n",
      " 7   Motivation_Level            6607 non-null   object\n",
      " 8   Internet_Access             6607 non-null   object\n",
      " 9   Tutoring_Sessions           6607 non-null   int64 \n",
      " 10  Family_Income               6607 non-null   object\n",
      " 11  Teacher_Quality             6529 non-null   object\n",
      " 12  School_Type                 6607 non-null   object\n",
      " 13  Peer_Influence              6607 non-null   object\n",
      " 14  Physical_Activity           6607 non-null   int64 \n",
      " 15  Learning_Disabilities       6607 non-null   object\n",
      " 16  Parental_Education_Level    6517 non-null   object\n",
      " 17  Distance_from_Home          6540 non-null   object\n",
      " 18  Gender                      6607 non-null   object\n",
      " 19  Exam_Score                  6607 non-null   int64 \n",
      "dtypes: int64(7), object(13)\n",
      "memory usage: 1.0+ MB\n"
     ]
    }
   ],
   "execution_count": 8
  },
  {
   "metadata": {
    "ExecuteTime": {
     "end_time": "2025-09-20T16:37:16.003307Z",
     "start_time": "2025-09-20T16:37:15.915812Z"
    }
   },
   "cell_type": "code",
   "source": "df.describe()",
   "id": "f62106d8c37d37b5",
   "outputs": [
    {
     "data": {
      "text/plain": [
       "       Hours_Studied   Attendance  Sleep_Hours  Previous_Scores  \\\n",
       "count    6607.000000  6607.000000   6607.00000      6607.000000   \n",
       "mean       19.975329    79.977448      7.02906        75.070531   \n",
       "std         5.990594    11.547475      1.46812        14.399784   \n",
       "min         1.000000    60.000000      4.00000        50.000000   \n",
       "25%        16.000000    70.000000      6.00000        63.000000   \n",
       "50%        20.000000    80.000000      7.00000        75.000000   \n",
       "75%        24.000000    90.000000      8.00000        88.000000   \n",
       "max        44.000000   100.000000     10.00000       100.000000   \n",
       "\n",
       "       Tutoring_Sessions  Physical_Activity   Exam_Score  \n",
       "count        6607.000000        6607.000000  6607.000000  \n",
       "mean            1.493719           2.967610    67.235659  \n",
       "std             1.230570           1.031231     3.890456  \n",
       "min             0.000000           0.000000    55.000000  \n",
       "25%             1.000000           2.000000    65.000000  \n",
       "50%             1.000000           3.000000    67.000000  \n",
       "75%             2.000000           4.000000    69.000000  \n",
       "max             8.000000           6.000000   101.000000  "
      ],
      "text/html": [
       "<div>\n",
       "<style scoped>\n",
       "    .dataframe tbody tr th:only-of-type {\n",
       "        vertical-align: middle;\n",
       "    }\n",
       "\n",
       "    .dataframe tbody tr th {\n",
       "        vertical-align: top;\n",
       "    }\n",
       "\n",
       "    .dataframe thead th {\n",
       "        text-align: right;\n",
       "    }\n",
       "</style>\n",
       "<table border=\"1\" class=\"dataframe\">\n",
       "  <thead>\n",
       "    <tr style=\"text-align: right;\">\n",
       "      <th></th>\n",
       "      <th>Hours_Studied</th>\n",
       "      <th>Attendance</th>\n",
       "      <th>Sleep_Hours</th>\n",
       "      <th>Previous_Scores</th>\n",
       "      <th>Tutoring_Sessions</th>\n",
       "      <th>Physical_Activity</th>\n",
       "      <th>Exam_Score</th>\n",
       "    </tr>\n",
       "  </thead>\n",
       "  <tbody>\n",
       "    <tr>\n",
       "      <th>count</th>\n",
       "      <td>6607.000000</td>\n",
       "      <td>6607.000000</td>\n",
       "      <td>6607.00000</td>\n",
       "      <td>6607.000000</td>\n",
       "      <td>6607.000000</td>\n",
       "      <td>6607.000000</td>\n",
       "      <td>6607.000000</td>\n",
       "    </tr>\n",
       "    <tr>\n",
       "      <th>mean</th>\n",
       "      <td>19.975329</td>\n",
       "      <td>79.977448</td>\n",
       "      <td>7.02906</td>\n",
       "      <td>75.070531</td>\n",
       "      <td>1.493719</td>\n",
       "      <td>2.967610</td>\n",
       "      <td>67.235659</td>\n",
       "    </tr>\n",
       "    <tr>\n",
       "      <th>std</th>\n",
       "      <td>5.990594</td>\n",
       "      <td>11.547475</td>\n",
       "      <td>1.46812</td>\n",
       "      <td>14.399784</td>\n",
       "      <td>1.230570</td>\n",
       "      <td>1.031231</td>\n",
       "      <td>3.890456</td>\n",
       "    </tr>\n",
       "    <tr>\n",
       "      <th>min</th>\n",
       "      <td>1.000000</td>\n",
       "      <td>60.000000</td>\n",
       "      <td>4.00000</td>\n",
       "      <td>50.000000</td>\n",
       "      <td>0.000000</td>\n",
       "      <td>0.000000</td>\n",
       "      <td>55.000000</td>\n",
       "    </tr>\n",
       "    <tr>\n",
       "      <th>25%</th>\n",
       "      <td>16.000000</td>\n",
       "      <td>70.000000</td>\n",
       "      <td>6.00000</td>\n",
       "      <td>63.000000</td>\n",
       "      <td>1.000000</td>\n",
       "      <td>2.000000</td>\n",
       "      <td>65.000000</td>\n",
       "    </tr>\n",
       "    <tr>\n",
       "      <th>50%</th>\n",
       "      <td>20.000000</td>\n",
       "      <td>80.000000</td>\n",
       "      <td>7.00000</td>\n",
       "      <td>75.000000</td>\n",
       "      <td>1.000000</td>\n",
       "      <td>3.000000</td>\n",
       "      <td>67.000000</td>\n",
       "    </tr>\n",
       "    <tr>\n",
       "      <th>75%</th>\n",
       "      <td>24.000000</td>\n",
       "      <td>90.000000</td>\n",
       "      <td>8.00000</td>\n",
       "      <td>88.000000</td>\n",
       "      <td>2.000000</td>\n",
       "      <td>4.000000</td>\n",
       "      <td>69.000000</td>\n",
       "    </tr>\n",
       "    <tr>\n",
       "      <th>max</th>\n",
       "      <td>44.000000</td>\n",
       "      <td>100.000000</td>\n",
       "      <td>10.00000</td>\n",
       "      <td>100.000000</td>\n",
       "      <td>8.000000</td>\n",
       "      <td>6.000000</td>\n",
       "      <td>101.000000</td>\n",
       "    </tr>\n",
       "  </tbody>\n",
       "</table>\n",
       "</div>"
      ]
     },
     "execution_count": 9,
     "metadata": {},
     "output_type": "execute_result"
    }
   ],
   "execution_count": 9
  },
  {
   "metadata": {},
   "cell_type": "markdown",
   "source": [
    "______________________________________________________________________________________________________________________\n",
    "# Data Cleaning\n",
    "_______________________________________________________________________________________________________________________"
   ],
   "id": "a9128e71b8d0ee11"
  },
  {
   "metadata": {
    "ExecuteTime": {
     "end_time": "2025-09-20T16:37:16.543748Z",
     "start_time": "2025-09-20T16:37:16.461775Z"
    }
   },
   "cell_type": "code",
   "source": [
    "df = df.drop_duplicates()\n",
    "df = df.dropna()"
   ],
   "id": "43af7baada1f30c2",
   "outputs": [],
   "execution_count": 10
  },
  {
   "metadata": {
    "ExecuteTime": {
     "end_time": "2025-09-20T16:37:16.928931Z",
     "start_time": "2025-09-20T16:37:16.903691Z"
    }
   },
   "cell_type": "code",
   "source": "df = df[(df[\"Exam_Score\"] >= 0) & (df[\"Exam_Score\"] <= 100)]",
   "id": "754d14d68dbb2e8d",
   "outputs": [],
   "execution_count": 11
  },
  {
   "metadata": {
    "ExecuteTime": {
     "end_time": "2025-09-20T16:37:17.227148Z",
     "start_time": "2025-09-20T16:37:17.202769Z"
    }
   },
   "cell_type": "code",
   "source": "df.isnull().sum()",
   "id": "f60879ce42ae0799",
   "outputs": [
    {
     "data": {
      "text/plain": [
       "Hours_Studied                 0\n",
       "Attendance                    0\n",
       "Parental_Involvement          0\n",
       "Access_to_Resources           0\n",
       "Extracurricular_Activities    0\n",
       "Sleep_Hours                   0\n",
       "Previous_Scores               0\n",
       "Motivation_Level              0\n",
       "Internet_Access               0\n",
       "Tutoring_Sessions             0\n",
       "Family_Income                 0\n",
       "Teacher_Quality               0\n",
       "School_Type                   0\n",
       "Peer_Influence                0\n",
       "Physical_Activity             0\n",
       "Learning_Disabilities         0\n",
       "Parental_Education_Level      0\n",
       "Distance_from_Home            0\n",
       "Gender                        0\n",
       "Exam_Score                    0\n",
       "dtype: int64"
      ]
     },
     "execution_count": 12,
     "metadata": {},
     "output_type": "execute_result"
    }
   ],
   "execution_count": 12
  },
  {
   "metadata": {},
   "cell_type": "markdown",
   "source": [
    "______________________________________________________________________________________________________________________\n",
    "# Columns in my Dataset\n",
    "_______________________________________________________________________________________________________________________"
   ],
   "id": "a94ee4f97b1a29ac"
  },
  {
   "metadata": {
    "ExecuteTime": {
     "end_time": "2025-09-20T16:37:17.605495Z",
     "start_time": "2025-09-20T16:37:17.593862Z"
    }
   },
   "cell_type": "code",
   "source": "df.columns",
   "id": "6235eeaa377f970",
   "outputs": [
    {
     "data": {
      "text/plain": [
       "Index(['Hours_Studied', 'Attendance', 'Parental_Involvement',\n",
       "       'Access_to_Resources', 'Extracurricular_Activities', 'Sleep_Hours',\n",
       "       'Previous_Scores', 'Motivation_Level', 'Internet_Access',\n",
       "       'Tutoring_Sessions', 'Family_Income', 'Teacher_Quality', 'School_Type',\n",
       "       'Peer_Influence', 'Physical_Activity', 'Learning_Disabilities',\n",
       "       'Parental_Education_Level', 'Distance_from_Home', 'Gender',\n",
       "       'Exam_Score'],\n",
       "      dtype='object')"
      ]
     },
     "execution_count": 13,
     "metadata": {},
     "output_type": "execute_result"
    }
   ],
   "execution_count": 13
  },
  {
   "metadata": {},
   "cell_type": "markdown",
   "source": [
    "-----------------------------------------------------------------------------------------------------------------------\n",
    "# Scatter Plot of Actual Data (Hours Studied vs Exam Score)\n",
    "-----------------------------------------------------------------------------------------------------------------------"
   ],
   "id": "d3243c4829de255e"
  },
  {
   "metadata": {
    "ExecuteTime": {
     "end_time": "2025-09-20T16:37:19.207318Z",
     "start_time": "2025-09-20T16:37:17.950414Z"
    }
   },
   "cell_type": "code",
   "source": [
    "plt.scatter(df[\"Hours_Studied\"], df[\"Exam_Score\"], color=\"green\")\n",
    "plt.xlabel(\"Hours Studied\")\n",
    "plt.ylabel(\"Exam Score\")\n",
    "plt.title(\"Hours Studied vs Exam Score\")\n",
    "plt.show()"
   ],
   "id": "6a5ca9b19eee91d7",
   "outputs": [
    {
     "data": {
      "text/plain": [
       "<Figure size 640x480 with 1 Axes>"
      ],
      "image/png": "[encoded data removed]"
     },
     "metadata": {},
     "output_type": "display_data"
    }
   ],
   "execution_count": 14
  },
  {
   "metadata": {},
   "cell_type": "markdown",
   "source": [
    "-----------------------------------------------------------------------------------------------------------------------\n",
    "# Starting to train Models (Linear Regression and Polynomial Regression)\n",
    "-----------------------------------------------------------------------------------------------------------------------"
   ],
   "id": "f591ffb41a61bfc"
  },
  {
   "metadata": {
    "ExecuteTime": {
     "end_time": "2025-09-20T16:37:19.370385Z",
     "start_time": "2025-09-20T16:37:19.335405Z"
    }
   },
   "cell_type": "code",
   "source": [
    "#Linear Regression with only one feature\n",
    "X = df[[\"Hours_Studied\"]]\n",
    "y = df[\"Exam_Score\"]\n",
    "X_train, X_test, Y_train, Y_test = train_test_split(X, y, test_size=0.2,random_state=42)\n",
    "model = LinearRegression()\n",
    "model.fit(X_train, Y_train)\n",
    "yPred = model.predict(X_test)"
   ],
   "id": "637cf09f7617080d",
   "outputs": [],
   "execution_count": 15
  },
  {
   "metadata": {
    "ExecuteTime": {
     "end_time": "2025-09-20T16:37:19.438857Z",
     "start_time": "2025-09-20T16:37:19.403368Z"
    }
   },
   "cell_type": "code",
   "source": "yPred",
   "id": "87079673d0d86ca2",
   "outputs": [
    {
     "data": {
      "text/plain": [
       "array([66.67012938, 65.20048126, 66.67012938, ..., 67.25798862,\n",
       "       70.19728485, 66.37619976], shape=(1276,))"
      ]
     },
     "execution_count": 16,
     "metadata": {},
     "output_type": "execute_result"
    }
   ],
   "execution_count": 16
  },
  {
   "metadata": {
    "ExecuteTime": {
     "end_time": "2025-09-20T16:37:19.671374Z",
     "start_time": "2025-09-20T16:37:19.601764Z"
    }
   },
   "cell_type": "code",
   "source": [
    "score = model.score(X_test, Y_test)\n",
    "print(\"Linear Regression Model R2 score: \", score)\n",
    "comparison = pd.DataFrame({\"Actual\": Y_test, \"Predicted\": yPred})\n",
    "comparison.head(10)\n"
   ],
   "id": "47fd567a0b377457",
   "outputs": [
    {
     "name": "stdout",
     "output_type": "stream",
     "text": [
      "Linear Regression Model R2 score:  0.17436685279178743\n"
     ]
    },
    {
     "data": {
      "text/plain": [
       "      Actual  Predicted\n",
       "2813      68  66.670129\n",
       "4421      66  65.200481\n",
       "3190      64  66.670129\n",
       "1246      72  67.257989\n",
       "4699      67  66.376200\n",
       "235       69  68.433707\n",
       "1680      71  67.845848\n",
       "300       66  65.788341\n",
       "5600      69  66.964059\n",
       "6257      66  64.906552"
      ],
      "text/html": [
       "<div>\n",
       "<style scoped>\n",
       "    .dataframe tbody tr th:only-of-type {\n",
       "        vertical-align: middle;\n",
       "    }\n",
       "\n",
       "    .dataframe tbody tr th {\n",
       "        vertical-align: top;\n",
       "    }\n",
       "\n",
       "    .dataframe thead th {\n",
       "        text-align: right;\n",
       "    }\n",
       "</style>\n",
       "<table border=\"1\" class=\"dataframe\">\n",
       "  <thead>\n",
       "    <tr style=\"text-align: right;\">\n",
       "      <th></th>\n",
       "      <th>Actual</th>\n",
       "      <th>Predicted</th>\n",
       "    </tr>\n",
       "  </thead>\n",
       "  <tbody>\n",
       "    <tr>\n",
       "      <th>2813</th>\n",
       "      <td>68</td>\n",
       "      <td>66.670129</td>\n",
       "    </tr>\n",
       "    <tr>\n",
       "      <th>4421</th>\n",
       "      <td>66</td>\n",
       "      <td>65.200481</td>\n",
       "    </tr>\n",
       "    <tr>\n",
       "      <th>3190</th>\n",
       "      <td>64</td>\n",
       "      <td>66.670129</td>\n",
       "    </tr>\n",
       "    <tr>\n",
       "      <th>1246</th>\n",
       "      <td>72</td>\n",
       "      <td>67.257989</td>\n",
       "    </tr>\n",
       "    <tr>\n",
       "      <th>4699</th>\n",
       "      <td>67</td>\n",
       "      <td>66.376200</td>\n",
       "    </tr>\n",
       "    <tr>\n",
       "      <th>235</th>\n",
       "      <td>69</td>\n",
       "      <td>68.433707</td>\n",
       "    </tr>\n",
       "    <tr>\n",
       "      <th>1680</th>\n",
       "      <td>71</td>\n",
       "      <td>67.845848</td>\n",
       "    </tr>\n",
       "    <tr>\n",
       "      <th>300</th>\n",
       "      <td>66</td>\n",
       "      <td>65.788341</td>\n",
       "    </tr>\n",
       "    <tr>\n",
       "      <th>5600</th>\n",
       "      <td>69</td>\n",
       "      <td>66.964059</td>\n",
       "    </tr>\n",
       "    <tr>\n",
       "      <th>6257</th>\n",
       "      <td>66</td>\n",
       "      <td>64.906552</td>\n",
       "    </tr>\n",
       "  </tbody>\n",
       "</table>\n",
       "</div>"
      ]
     },
     "execution_count": 17,
     "metadata": {},
     "output_type": "execute_result"
    }
   ],
   "execution_count": 17
  },
  {
   "metadata": {
    "ExecuteTime": {
     "end_time": "2025-09-20T16:37:20.557479Z",
     "start_time": "2025-09-20T16:37:19.887236Z"
    }
   },
   "cell_type": "code",
   "source": [
    "#Visualizing Linear Regression Prediction\n",
    "plt.scatter(X_test, Y_test, color='green', label=\"Actual\")\n",
    "plt.plot(X_test, yPred, color=\"red\", label=\"Predicted Line\")\n",
    "plt.xlabel(\"Hours Studied\")\n",
    "plt.ylabel(\"Exam Score\")\n",
    "plt.title(\"Linear Regression: Actual vs Predicted\")\n",
    "plt.legend()\n",
    "plt.show()"
   ],
   "id": "cdf6fca51b8a929a",
   "outputs": [
    {
     "data": {
      "text/plain": [
       "<Figure size 640x480 with 1 Axes>"
      ],
      "image/png": "[encoded data removed]"
     },
     "metadata": {},
     "output_type": "display_data"
    }
   ],
   "execution_count": 18
  },
  {
   "metadata": {
    "ExecuteTime": {
     "end_time": "2025-09-20T16:37:20.866404Z",
     "start_time": "2025-09-20T16:37:20.835905Z"
    }
   },
   "cell_type": "code",
   "source": "from sklearn.preprocessing import PolynomialFeatures",
   "id": "412dbb23a5448bbb",
   "outputs": [],
   "execution_count": 19
  },
  {
   "metadata": {
    "ExecuteTime": {
     "end_time": "2025-09-20T16:37:21.127780Z",
     "start_time": "2025-09-20T16:37:21.095781Z"
    }
   },
   "cell_type": "code",
   "source": [
    "#Polynomial Regression with only one feature\n",
    "poly=PolynomialFeatures(degree=2)\n",
    "X_train_poly=poly.fit_transform(X_train)\n",
    "X_test_poly=poly.transform(X_test)\n",
    "polyModel=LinearRegression()\n",
    "polyModel.fit(X_train_poly,Y_train)\n",
    "predPoly=polyModel.predict(X_test_poly)\n",
    "polyScore=polyModel.score(X_test_poly,Y_test)\n",
    "print(f\"R2 Score of Polynomial Regression: {polyScore}\")"
   ],
   "id": "252c9ef6857d8524",
   "outputs": [
    {
     "name": "stdout",
     "output_type": "stream",
     "text": [
      "R2 Score of Polynomial Regression: 0.17462968334956785\n"
     ]
    }
   ],
   "execution_count": 20
  },
  {
   "metadata": {
    "ExecuteTime": {
     "end_time": "2025-09-20T16:37:21.585692Z",
     "start_time": "2025-09-20T16:37:21.291680Z"
    }
   },
   "cell_type": "code",
   "source": [
    "#Visualizing Polynomial Regression Prediction\n",
    "X_curve=np.linspace(X.min(),X.max(),200).reshape(-1, 1)\n",
    "X_curve_poly=poly.transform(X_curve)\n",
    "y_curve=polyModel.predict(X_curve_poly)\n",
    "plt.scatter(X_test, Y_test,color=\"blue\",label=\"Actual Data\")\n",
    "plt.plot(X_curve, y_curve, color=\"green\",label=\"Polynomial Regression\")\n",
    "plt.xlabel(\"Hours Studied\")\n",
    "plt.ylabel(\"Exam Score\")\n",
    "plt.title(\"Polynomial Regression\")\n",
    "plt.legend()\n",
    "plt.show()\n"
   ],
   "id": "58b5d733fc1cf627",
   "outputs": [
    {
     "name": "stderr",
     "output_type": "stream",
     "text": [
      "D:\\Elovvo\\.venv\\Lib\\site-packages\\sklearn\\utils\\validation.py:2749: UserWarning: X does not have valid feature names, but PolynomialFeatures was fitted with feature names\n",
      "  warnings.warn(\n"
     ]
    },
    {
     "data": {
      "text/plain": [
       "<Figure size 640x480 with 1 Axes>"
      ],
      "image/png": "[encoded data removed]"
     },
     "metadata": {},
     "output_type": "display_data"
    }
   ],
   "execution_count": 21
  },
  {
   "metadata": {},
   "cell_type": "markdown",
   "source": [
    "-----------------------------------------------------------------------------------------------------------------------\n",
    "# Values of Both (Linear and Polynomial Regression)\n",
    "-----------------------------------------------------------------------------------------------------------------------"
   ],
   "id": "de0eb2f96d0a8de5"
  },
  {
   "metadata": {
    "ExecuteTime": {
     "end_time": "2025-09-20T16:37:21.665298Z",
     "start_time": "2025-09-20T16:37:21.636662Z"
    }
   },
   "cell_type": "code",
   "source": [
    "from sklearn.metrics import r2_score, mean_squared_error\n",
    "\n",
    "y_pred_linear = model.predict(X_test)\n",
    "y_pred_poly = polyModel.predict(poly.transform(X_test))\n",
    "\n",
    "print(\"Linear R2:\", r2_score(Y_test, y_pred_linear))\n",
    "print(\"Polynomial R2:\", r2_score(Y_test, y_pred_poly))\n",
    "print(\"Linear MSE:\", mean_squared_error(Y_test, y_pred_linear))\n",
    "print(\"Polynomial MSE:\", mean_squared_error(Y_test, y_pred_poly))\n",
    "\n"
   ],
   "id": "ee6214ab61b68c0",
   "outputs": [
    {
     "name": "stdout",
     "output_type": "stream",
     "text": [
      "Linear R2: 0.17436685279178743\n",
      "Polynomial R2: 0.17462968334956785\n",
      "Linear MSE: 12.924133145881783\n",
      "Polynomial MSE: 12.920018900789945\n"
     ]
    }
   ],
   "execution_count": 22
  },
  {
   "metadata": {},
   "cell_type": "markdown",
   "source": [
    "----------------------------------------------------------------------------------------------------------------------\n",
    "# Conclusion\n",
    "Linear Regression vs Polynomial Regression\n",
    "\n",
    "Based on the evaluation results, both the Linear and Polynomial Regression models produced almost identical performance.\n",
    "\n",
    "- Linear Regression Model:\n",
    "\n",
    "Mean Squared Error: 12.924133145881783\n",
    "\n",
    "R2 Score: 0.17436685279178743\n",
    "\n",
    "- Polynomial Regression Model (Degree = 2):\n",
    "\n",
    "Mean Squared Error: 12.920018900789945\n",
    "\n",
    "R2 Score: 0.17462968334956785\n",
    "\n",
    "-----------------------------------------------------------------------------------------------------------------------"
   ],
   "id": "c3bcb8e33f6dc1c1"
  },
  {
   "metadata": {},
   "cell_type": "markdown",
   "source": [
    "______________________________________________________________________________________________________________________\n",
    "# Now adding some more features to get more accurate values\n",
    "_______________________________________________________________________________________________________________________"
   ],
   "id": "8b8dd7f6b89de5a"
  },
  {
   "metadata": {
    "ExecuteTime": {
     "end_time": "2025-09-20T16:37:21.857969Z",
     "start_time": "2025-09-20T16:37:21.836785Z"
    }
   },
   "cell_type": "code",
   "source": "df.columns\n",
   "id": "a9e574e5e7f6edab",
   "outputs": [
    {
     "data": {
      "text/plain": [
       "Index(['Hours_Studied', 'Attendance', 'Parental_Involvement',\n",
       "       'Access_to_Resources', 'Extracurricular_Activities', 'Sleep_Hours',\n",
       "       'Previous_Scores', 'Motivation_Level', 'Internet_Access',\n",
       "       'Tutoring_Sessions', 'Family_Income', 'Teacher_Quality', 'School_Type',\n",
       "       'Peer_Influence', 'Physical_Activity', 'Learning_Disabilities',\n",
       "       'Parental_Education_Level', 'Distance_from_Home', 'Gender',\n",
       "       'Exam_Score'],\n",
       "      dtype='object')"
      ]
     },
     "execution_count": 23,
     "metadata": {},
     "output_type": "execute_result"
    }
   ],
   "execution_count": 23
  },
  {
   "metadata": {
    "ExecuteTime": {
     "end_time": "2025-09-20T16:37:22.067145Z",
     "start_time": "2025-09-20T16:37:22.049370Z"
    }
   },
   "cell_type": "code",
   "source": [
    "X = df[['Hours_Studied', 'Attendance', 'Sleep_Hours', 'Physical_Activity', 'Tutoring_Sessions']]\n",
    "y = df['Exam_Score']"
   ],
   "id": "1eefc858b7c23abf",
   "outputs": [],
   "execution_count": 24
  },
  {
   "metadata": {
    "ExecuteTime": {
     "end_time": "2025-09-20T16:37:22.154187Z",
     "start_time": "2025-09-20T16:37:22.130105Z"
    }
   },
   "cell_type": "code",
   "source": "X_train, X_test, y_train, y_test = train_test_split(X, y, test_size=0.2, random_state=42)",
   "id": "3a55bd19cb03aa8",
   "outputs": [],
   "execution_count": 25
  },
  {
   "metadata": {
    "ExecuteTime": {
     "end_time": "2025-09-20T16:37:22.325530Z",
     "start_time": "2025-09-20T16:37:22.218969Z"
    }
   },
   "cell_type": "code",
   "source": [
    "print(\"Shape of X_train:\", X_train.shape)\n",
    "print(\"Shape of X_test:\", X_test.shape)\n",
    "print(\"Shape of Y_train:\", Y_train.shape)\n",
    "print(\"Shape of Y_test:\", Y_test.shape)\n",
    "#Training Linear Regression model\n",
    "linear_model2 = LinearRegression()\n",
    "linear_model2.fit(X_train, y_train)"
   ],
   "id": "2dd31e9f494f8679",
   "outputs": [
    {
     "name": "stdout",
     "output_type": "stream",
     "text": [
      "Shape of X_train: (5101, 5)\n",
      "Shape of X_test: (1276, 5)\n",
      "Shape of Y_train: (5101,)\n",
      "Shape of Y_test: (1276,)\n"
     ]
    },
    {
     "data": {
      "text/plain": [
       "LinearRegression()"
      ],
      "text/html": [
       "<style>#sk-container-id-1 {\n",
       "  /* Definition of color scheme common for light and dark mode */\n",
       "  --sklearn-color-text: #000;\n",
       "  --sklearn-color-text-muted: #666;\n",
       "  --sklearn-color-line: gray;\n",
       "  /* Definition of color scheme for unfitted estimators */\n",
       "  --sklearn-color-unfitted-level-0: #fff5e6;\n",
       "  --sklearn-color-unfitted-level-1: #f6e4d2;\n",
       "  --sklearn-color-unfitted-level-2: #ffe0b3;\n",
       "  --sklearn-color-unfitted-level-3: chocolate;\n",
       "  /* Definition of color scheme for fitted estimators */\n",
       "  --sklearn-color-fitted-level-0: #f0f8ff;\n",
       "  --sklearn-color-fitted-level-1: #d4ebff;\n",
       "  --sklearn-color-fitted-level-2: #b3dbfd;\n",
       "  --sklearn-color-fitted-level-3: cornflowerblue;\n",
       "\n",
       "  /* Specific color for light theme */\n",
       "  --sklearn-color-text-on-default-background: var(--sg-text-color, var(--theme-code-foreground, var(--jp-content-font-color1, black)));\n",
       "  --sklearn-color-background: var(--sg-background-color, var(--theme-background, var(--jp-layout-color0, white)));\n",
       "  --sklearn-color-border-box: var(--sg-text-color, var(--theme-code-foreground, var(--jp-content-font-color1, black)));\n",
       "  --sklearn-color-icon: #696969;\n",
       "\n",
       "  @media (prefers-color-scheme: dark) {\n",
       "    /* Redefinition of color scheme for dark theme */\n",
       "    --sklearn-color-text-on-default-background: var(--sg-text-color, var(--theme-code-foreground, var(--jp-content-font-color1, white)));\n",
       "    --sklearn-color-background: var(--sg-background-color, var(--theme-background, var(--jp-layout-color0, #111)));\n",
       "    --sklearn-color-border-box: var(--sg-text-color, var(--theme-code-foreground, var(--jp-content-font-color1, white)));\n",
       "    --sklearn-color-icon: #878787;\n",
       "  }\n",
       "}\n",
       "\n",
       "#sk-container-id-1 {\n",
       "  color: var(--sklearn-color-text);\n",
       "}\n",
       "\n",
       "#sk-container-id-1 pre {\n",
       "  padding: 0;\n",
       "}\n",
       "\n",
       "#sk-container-id-1 input.sk-hidden--visually {\n",
       "  border: 0;\n",
       "  clip: rect(1px 1px 1px 1px);\n",
       "  clip: rect(1px, 1px, 1px, 1px);\n",
       "  height: 1px;\n",
       "  margin: -1px;\n",
       "  overflow: hidden;\n",
       "  padding: 0;\n",
       "  position: absolute;\n",
       "  width: 1px;\n",
       "}\n",
       "\n",
       "#sk-container-id-1 div.sk-dashed-wrapped {\n",
       "  border: 1px dashed var(--sklearn-color-line);\n",
       "  margin: 0 0.4em 0.5em 0.4em;\n",
       "  box-sizing: border-box;\n",
       "  padding-bottom: 0.4em;\n",
       "  background-color: var(--sklearn-color-background);\n",
       "}\n",
       "\n",
       "#sk-container-id-1 div.sk-container {\n",
       "  /* jupyter's `normalize.less` sets `[hidden] { display: none; }`\n",
       "     but bootstrap.min.css set `[hidden] { display: none !important; }`\n",
       "     so we also need the `!important` here to be able to override the\n",
       "     default hidden behavior on the sphinx rendered scikit-learn.org.\n",
       "     See: https://github.com/scikit-learn/scikit-learn/issues/21755 */\n",
       "  display: inline-block !important;\n",
       "  position: relative;\n",
       "}\n",
       "\n",
       "#sk-container-id-1 div.sk-text-repr-fallback {\n",
       "  display: none;\n",
       "}\n",
       "\n",
       "div.sk-parallel-item,\n",
       "div.sk-serial,\n",
       "div.sk-item {\n",
       "  /* draw centered vertical line to link estimators */\n",
       "  background-image: linear-gradient(var(--sklearn-color-text-on-default-background), var(--sklearn-color-text-on-default-background));\n",
       "  background-size: 2px 100%;\n",
       "  background-repeat: no-repeat;\n",
       "  background-position: center center;\n",
       "}\n",
       "\n",
       "/* Parallel-specific style estimator block */\n",
       "\n",
       "#sk-container-id-1 div.sk-parallel-item::after {\n",
       "  content: \"\";\n",
       "  width: 100%;\n",
       "  border-bottom: 2px solid var(--sklearn-color-text-on-default-background);\n",
       "  flex-grow: 1;\n",
       "}\n",
       "\n",
       "#sk-container-id-1 div.sk-parallel {\n",
       "  display: flex;\n",
       "  align-items: stretch;\n",
       "  justify-content: center;\n",
       "  background-color: var(--sklearn-color-background);\n",
       "  position: relative;\n",
       "}\n",
       "\n",
       "#sk-container-id-1 div.sk-parallel-item {\n",
       "  display: flex;\n",
       "  flex-direction: column;\n",
       "}\n",
       "\n",
       "#sk-container-id-1 div.sk-parallel-item:first-child::after {\n",
       "  align-self: flex-end;\n",
       "  width: 50%;\n",
       "}\n",
       "\n",
       "#sk-container-id-1 div.sk-parallel-item:last-child::after {\n",
       "  align-self: flex-start;\n",
       "  width: 50%;\n",
       "}\n",
       "\n",
       "#sk-container-id-1 div.sk-parallel-item:only-child::after {\n",
       "  width: 0;\n",
       "}\n",
       "\n",
       "/* Serial-specific style estimator block */\n",
       "\n",
       "#sk-container-id-1 div.sk-serial {\n",
       "  display: flex;\n",
       "  flex-direction: column;\n",
       "  align-items: center;\n",
       "  background-color: var(--sklearn-color-background);\n",
       "  padding-right: 1em;\n",
       "  padding-left: 1em;\n",
       "}\n",
       "\n",
       "\n",
       "/* Toggleable style: style used for estimator/Pipeline/ColumnTransformer box that is\n",
       "clickable and can be expanded/collapsed.\n",
       "- Pipeline and ColumnTransformer use this feature and define the default style\n",
       "- Estimators will overwrite some part of the style using the `sk-estimator` class\n",
       "*/\n",
       "\n",
       "/* Pipeline and ColumnTransformer style (default) */\n",
       "\n",
       "#sk-container-id-1 div.sk-toggleable {\n",
       "  /* Default theme specific background. It is overwritten whether we have a\n",
       "  specific estimator or a Pipeline/ColumnTransformer */\n",
       "  background-color: var(--sklearn-color-background);\n",
       "}\n",
       "\n",
       "/* Toggleable label */\n",
       "#sk-container-id-1 label.sk-toggleable__label {\n",
       "  cursor: pointer;\n",
       "  display: flex;\n",
       "  width: 100%;\n",
       "  margin-bottom: 0;\n",
       "  padding: 0.5em;\n",
       "  box-sizing: border-box;\n",
       "  text-align: center;\n",
       "  align-items: start;\n",
       "  justify-content: space-between;\n",
       "  gap: 0.5em;\n",
       "}\n",
       "\n",
       "#sk-container-id-1 label.sk-toggleable__label .caption {\n",
       "  font-size: 0.6rem;\n",
       "  font-weight: lighter;\n",
       "  color: var(--sklearn-color-text-muted);\n",
       "}\n",
       "\n",
       "#sk-container-id-1 label.sk-toggleable__label-arrow:before {\n",
       "  /* Arrow on the left of the label */\n",
       "  content: \"▸\";\n",
       "  float: left;\n",
       "  margin-right: 0.25em;\n",
       "  color: var(--sklearn-color-icon);\n",
       "}\n",
       "\n",
       "#sk-container-id-1 label.sk-toggleable__label-arrow:hover:before {\n",
       "  color: var(--sklearn-color-text);\n",
       "}\n",
       "\n",
       "/* Toggleable content - dropdown */\n",
       "\n",
       "#sk-container-id-1 div.sk-toggleable__content {\n",
       "  display: none;\n",
       "  text-align: left;\n",
       "  /* unfitted */\n",
       "  background-color: var(--sklearn-color-unfitted-level-0);\n",
       "}\n",
       "\n",
       "#sk-container-id-1 div.sk-toggleable__content.fitted {\n",
       "  /* fitted */\n",
       "  background-color: var(--sklearn-color-fitted-level-0);\n",
       "}\n",
       "\n",
       "#sk-container-id-1 div.sk-toggleable__content pre {\n",
       "  margin: 0.2em;\n",
       "  border-radius: 0.25em;\n",
       "  color: var(--sklearn-color-text);\n",
       "  /* unfitted */\n",
       "  background-color: var(--sklearn-color-unfitted-level-0);\n",
       "}\n",
       "\n",
       "#sk-container-id-1 div.sk-toggleable__content.fitted pre {\n",
       "  /* unfitted */\n",
       "  background-color: var(--sklearn-color-fitted-level-0);\n",
       "}\n",
       "\n",
       "#sk-container-id-1 input.sk-toggleable__control:checked~div.sk-toggleable__content {\n",
       "  /* Expand drop-down */\n",
       "  display: block;\n",
       "  width: 100%;\n",
       "  overflow: visible;\n",
       "}\n",
       "\n",
       "#sk-container-id-1 input.sk-toggleable__control:checked~label.sk-toggleable__label-arrow:before {\n",
       "  content: \"▾\";\n",
       "}\n",
       "\n",
       "/* Pipeline/ColumnTransformer-specific style */\n",
       "\n",
       "#sk-container-id-1 div.sk-label input.sk-toggleable__control:checked~label.sk-toggleable__label {\n",
       "  color: var(--sklearn-color-text);\n",
       "  background-color: var(--sklearn-color-unfitted-level-2);\n",
       "}\n",
       "\n",
       "#sk-container-id-1 div.sk-label.fitted input.sk-toggleable__control:checked~label.sk-toggleable__label {\n",
       "  background-color: var(--sklearn-color-fitted-level-2);\n",
       "}\n",
       "\n",
       "/* Estimator-specific style */\n",
       "\n",
       "/* Colorize estimator box */\n",
       "#sk-container-id-1 div.sk-estimator input.sk-toggleable__control:checked~label.sk-toggleable__label {\n",
       "  /* unfitted */\n",
       "  background-color: var(--sklearn-color-unfitted-level-2);\n",
       "}\n",
       "\n",
       "#sk-container-id-1 div.sk-estimator.fitted input.sk-toggleable__control:checked~label.sk-toggleable__label {\n",
       "  /* fitted */\n",
       "  background-color: var(--sklearn-color-fitted-level-2);\n",
       "}\n",
       "\n",
       "#sk-container-id-1 div.sk-label label.sk-toggleable__label,\n",
       "#sk-container-id-1 div.sk-label label {\n",
       "  /* The background is the default theme color */\n",
       "  color: var(--sklearn-color-text-on-default-background);\n",
       "}\n",
       "\n",
       "/* On hover, darken the color of the background */\n",
       "#sk-container-id-1 div.sk-label:hover label.sk-toggleable__label {\n",
       "  color: var(--sklearn-color-text);\n",
       "  background-color: var(--sklearn-color-unfitted-level-2);\n",
       "}\n",
       "\n",
       "/* Label box, darken color on hover, fitted */\n",
       "#sk-container-id-1 div.sk-label.fitted:hover label.sk-toggleable__label.fitted {\n",
       "  color: var(--sklearn-color-text);\n",
       "  background-color: var(--sklearn-color-fitted-level-2);\n",
       "}\n",
       "\n",
       "/* Estimator label */\n",
       "\n",
       "#sk-container-id-1 div.sk-label label {\n",
       "  font-family: monospace;\n",
       "  font-weight: bold;\n",
       "  display: inline-block;\n",
       "  line-height: 1.2em;\n",
       "}\n",
       "\n",
       "#sk-container-id-1 div.sk-label-container {\n",
       "  text-align: center;\n",
       "}\n",
       "\n",
       "/* Estimator-specific */\n",
       "#sk-container-id-1 div.sk-estimator {\n",
       "  font-family: monospace;\n",
       "  border: 1px dotted var(--sklearn-color-border-box);\n",
       "  border-radius: 0.25em;\n",
       "  box-sizing: border-box;\n",
       "  margin-bottom: 0.5em;\n",
       "  /* unfitted */\n",
       "  background-color: var(--sklearn-color-unfitted-level-0);\n",
       "}\n",
       "\n",
       "#sk-container-id-1 div.sk-estimator.fitted {\n",
       "  /* fitted */\n",
       "  background-color: var(--sklearn-color-fitted-level-0);\n",
       "}\n",
       "\n",
       "/* on hover */\n",
       "#sk-container-id-1 div.sk-estimator:hover {\n",
       "  /* unfitted */\n",
       "  background-color: var(--sklearn-color-unfitted-level-2);\n",
       "}\n",
       "\n",
       "#sk-container-id-1 div.sk-estimator.fitted:hover {\n",
       "  /* fitted */\n",
       "  background-color: var(--sklearn-color-fitted-level-2);\n",
       "}\n",
       "\n",
       "/* Specification for estimator info (e.g. \"i\" and \"?\") */\n",
       "\n",
       "/* Common style for \"i\" and \"?\" */\n",
       "\n",
       ".sk-estimator-doc-link,\n",
       "a:link.sk-estimator-doc-link,\n",
       "a:visited.sk-estimator-doc-link {\n",
       "  float: right;\n",
       "  font-size: smaller;\n",
       "  line-height: 1em;\n",
       "  font-family: monospace;\n",
       "  background-color: var(--sklearn-color-background);\n",
       "  border-radius: 1em;\n",
       "  height: 1em;\n",
       "  width: 1em;\n",
       "  text-decoration: none !important;\n",
       "  margin-left: 0.5em;\n",
       "  text-align: center;\n",
       "  /* unfitted */\n",
       "  border: var(--sklearn-color-unfitted-level-1) 1pt solid;\n",
       "  color: var(--sklearn-color-unfitted-level-1);\n",
       "}\n",
       "\n",
       ".sk-estimator-doc-link.fitted,\n",
       "a:link.sk-estimator-doc-link.fitted,\n",
       "a:visited.sk-estimator-doc-link.fitted {\n",
       "  /* fitted */\n",
       "  border: var(--sklearn-color-fitted-level-1) 1pt solid;\n",
       "  color: var(--sklearn-color-fitted-level-1);\n",
       "}\n",
       "\n",
       "/* On hover */\n",
       "div.sk-estimator:hover .sk-estimator-doc-link:hover,\n",
       ".sk-estimator-doc-link:hover,\n",
       "div.sk-label-container:hover .sk-estimator-doc-link:hover,\n",
       ".sk-estimator-doc-link:hover {\n",
       "  /* unfitted */\n",
       "  background-color: var(--sklearn-color-unfitted-level-3);\n",
       "  color: var(--sklearn-color-background);\n",
       "  text-decoration: none;\n",
       "}\n",
       "\n",
       "div.sk-estimator.fitted:hover .sk-estimator-doc-link.fitted:hover,\n",
       ".sk-estimator-doc-link.fitted:hover,\n",
       "div.sk-label-container:hover .sk-estimator-doc-link.fitted:hover,\n",
       ".sk-estimator-doc-link.fitted:hover {\n",
       "  /* fitted */\n",
       "  background-color: var(--sklearn-color-fitted-level-3);\n",
       "  color: var(--sklearn-color-background);\n",
       "  text-decoration: none;\n",
       "}\n",
       "\n",
       "/* Span, style for the box shown on hovering the info icon */\n",
       ".sk-estimator-doc-link span {\n",
       "  display: none;\n",
       "  z-index: 9999;\n",
       "  position: relative;\n",
       "  font-weight: normal;\n",
       "  right: .2ex;\n",
       "  padding: .5ex;\n",
       "  margin: .5ex;\n",
       "  width: min-content;\n",
       "  min-width: 20ex;\n",
       "  max-width: 50ex;\n",
       "  color: var(--sklearn-color-text);\n",
       "  box-shadow: 2pt 2pt 4pt #999;\n",
       "  /* unfitted */\n",
       "  background: var(--sklearn-color-unfitted-level-0);\n",
       "  border: .5pt solid var(--sklearn-color-unfitted-level-3);\n",
       "}\n",
       "\n",
       ".sk-estimator-doc-link.fitted span {\n",
       "  /* fitted */\n",
       "  background: var(--sklearn-color-fitted-level-0);\n",
       "  border: var(--sklearn-color-fitted-level-3);\n",
       "}\n",
       "\n",
       ".sk-estimator-doc-link:hover span {\n",
       "  display: block;\n",
       "}\n",
       "\n",
       "/* \"?\"-specific style due to the `<a>` HTML tag */\n",
       "\n",
       "#sk-container-id-1 a.estimator_doc_link {\n",
       "  float: right;\n",
       "  font-size: 1rem;\n",
       "  line-height: 1em;\n",
       "  font-family: monospace;\n",
       "  background-color: var(--sklearn-color-background);\n",
       "  border-radius: 1rem;\n",
       "  height: 1rem;\n",
       "  width: 1rem;\n",
       "  text-decoration: none;\n",
       "  /* unfitted */\n",
       "  color: var(--sklearn-color-unfitted-level-1);\n",
       "  border: var(--sklearn-color-unfitted-level-1) 1pt solid;\n",
       "}\n",
       "\n",
       "#sk-container-id-1 a.estimator_doc_link.fitted {\n",
       "  /* fitted */\n",
       "  border: var(--sklearn-color-fitted-level-1) 1pt solid;\n",
       "  color: var(--sklearn-color-fitted-level-1);\n",
       "}\n",
       "\n",
       "/* On hover */\n",
       "#sk-container-id-1 a.estimator_doc_link:hover {\n",
       "  /* unfitted */\n",
       "  background-color: var(--sklearn-color-unfitted-level-3);\n",
       "  color: var(--sklearn-color-background);\n",
       "  text-decoration: none;\n",
       "}\n",
       "\n",
       "#sk-container-id-1 a.estimator_doc_link.fitted:hover {\n",
       "  /* fitted */\n",
       "  background-color: var(--sklearn-color-fitted-level-3);\n",
       "}\n",
       "\n",
       ".estimator-table summary {\n",
       "    padding: .5rem;\n",
       "    font-family: monospace;\n",
       "    cursor: pointer;\n",
       "}\n",
       "\n",
       ".estimator-table details[open] {\n",
       "    padding-left: 0.1rem;\n",
       "    padding-right: 0.1rem;\n",
       "    padding-bottom: 0.3rem;\n",
       "}\n",
       "\n",
       ".estimator-table .parameters-table {\n",
       "    margin-left: auto !important;\n",
       "    margin-right: auto !important;\n",
       "}\n",
       "\n",
       ".estimator-table .parameters-table tr:nth-child(odd) {\n",
       "    background-color: #fff;\n",
       "}\n",
       "\n",
       ".estimator-table .parameters-table tr:nth-child(even) {\n",
       "    background-color: #f6f6f6;\n",
       "}\n",
       "\n",
       ".estimator-table .parameters-table tr:hover {\n",
       "    background-color: #e0e0e0;\n",
       "}\n",
       "\n",
       ".estimator-table table td {\n",
       "    border: 1px solid rgba(106, 105, 104, 0.232);\n",
       "}\n",
       "\n",
       ".user-set td {\n",
       "    color:rgb(255, 94, 0);\n",
       "    text-align: left;\n",
       "}\n",
       "\n",
       ".user-set td.value pre {\n",
       "    color:rgb(255, 94, 0) !important;\n",
       "    background-color: transparent !important;\n",
       "}\n",
       "\n",
       ".default td {\n",
       "    color: black;\n",
       "    text-align: left;\n",
       "}\n",
       "\n",
       ".user-set td i,\n",
       ".default td i {\n",
       "    color: black;\n",
       "}\n",
       "\n",
       ".copy-paste-icon {\n",
       "    background-image: url(data:image/svg+xml;base64,PHN2ZyB4bWxucz0iaHR0cDovL3d3dy53My5vcmcvMjAwMC9zdmciIHZpZXdCb3g9IjAgMCA0NDggNTEyIj48IS0tIUZvbnQgQXdlc29tZSBGcmVlIDYuNy4yIGJ5IEBmb250YXdlc29tZSAtIGh0dHBzOi8vZm9udGF3ZXNvbWUuY29tIExpY2Vuc2UgLSBodHRwczovL2ZvbnRhd2Vzb21lLmNvbS9saWNlbnNlL2ZyZWUgQ29weXJpZ2h0IDIwMjUgRm9udGljb25zLCBJbmMuLS0+PHBhdGggZD0iTTIwOCAwTDMzMi4xIDBjMTIuNyAwIDI0LjkgNS4xIDMzLjkgMTQuMWw2Ny45IDY3LjljOSA5IDE0LjEgMjEuMiAxNC4xIDMzLjlMNDQ4IDMzNmMwIDI2LjUtMjEuNSA0OC00OCA0OGwtMTkyIDBjLTI2LjUgMC00OC0yMS41LTQ4LTQ4bDAtMjg4YzAtMjYuNSAyMS41LTQ4IDQ4LTQ4ek00OCAxMjhsODAgMCAwIDY0LTY0IDAgMCAyNTYgMTkyIDAgMC0zMiA2NCAwIDAgNDhjMCAyNi41LTIxLjUgNDgtNDggNDhMNDggNTEyYy0yNi41IDAtNDgtMjEuNS00OC00OEwwIDE3NmMwLTI2LjUgMjEuNS00OCA0OC00OHoiLz48L3N2Zz4=);\n",
       "    background-repeat: no-repeat;\n",
       "    background-size: 14px 14px;\n",
       "    background-position: 0;\n",
       "    display: inline-block;\n",
       "    width: 14px;\n",
       "    height: 14px;\n",
       "    cursor: pointer;\n",
       "}\n",
       "</style><body><div id=\"sk-container-id-1\" class=\"sk-top-container\"><div class=\"sk-text-repr-fallback\"><pre>LinearRegression()</pre><b>In a Jupyter environment, please rerun this cell to show the HTML representation or trust the notebook. <br />On GitHub, the HTML representation is unable to render, please try loading this page with nbviewer.org.</b></div><div class=\"sk-container\" hidden><div class=\"sk-item\"><div class=\"sk-estimator fitted sk-toggleable\"><input class=\"sk-toggleable__control sk-hidden--visually\" id=\"sk-estimator-id-1\" type=\"checkbox\" checked><label for=\"sk-estimator-id-1\" class=\"sk-toggleable__label fitted sk-toggleable__label-arrow\"><div><div>LinearRegression</div></div><div><a class=\"sk-estimator-doc-link fitted\" rel=\"noreferrer\" target=\"_blank\" href=\"https://scikit-learn.org/1.7/modules/generated/sklearn.linear_model.LinearRegression.html\">?<span>Documentation for LinearRegression</span></a><span class=\"sk-estimator-doc-link fitted\">i<span>Fitted</span></span></div></label><div class=\"sk-toggleable__content fitted\" data-param-prefix=\"\">\n",
       "        <div class=\"estimator-table\">\n",
       "            <details>\n",
       "                <summary>Parameters</summary>\n",
       "                <table class=\"parameters-table\">\n",
       "                  <tbody>\n",
       "                    \n",
       "        <tr class=\"default\">\n",
       "            <td><i class=\"copy-paste-icon\"\n",
       "                 onclick=\"copyToClipboard('fit_intercept',\n",
       "                          this.parentElement.nextElementSibling)\"\n",
       "            ></i></td>\n",
       "            <td class=\"param\">fit_intercept&nbsp;</td>\n",
       "            <td class=\"value\">True</td>\n",
       "        </tr>\n",
       "    \n",
       "\n",
       "        <tr class=\"default\">\n",
       "            <td><i class=\"copy-paste-icon\"\n",
       "                 onclick=\"copyToClipboard('copy_X',\n",
       "                          this.parentElement.nextElementSibling)\"\n",
       "            ></i></td>\n",
       "            <td class=\"param\">copy_X&nbsp;</td>\n",
       "            <td class=\"value\">True</td>\n",
       "        </tr>\n",
       "    \n",
       "\n",
       "        <tr class=\"default\">\n",
       "            <td><i class=\"copy-paste-icon\"\n",
       "                 onclick=\"copyToClipboard('tol',\n",
       "                          this.parentElement.nextElementSibling)\"\n",
       "            ></i></td>\n",
       "            <td class=\"param\">tol&nbsp;</td>\n",
       "            <td class=\"value\">1e-06</td>\n",
       "        </tr>\n",
       "    \n",
       "\n",
       "        <tr class=\"default\">\n",
       "            <td><i class=\"copy-paste-icon\"\n",
       "                 onclick=\"copyToClipboard('n_jobs',\n",
       "                          this.parentElement.nextElementSibling)\"\n",
       "            ></i></td>\n",
       "            <td class=\"param\">n_jobs&nbsp;</td>\n",
       "            <td class=\"value\">None</td>\n",
       "        </tr>\n",
       "    \n",
       "\n",
       "        <tr class=\"default\">\n",
       "            <td><i class=\"copy-paste-icon\"\n",
       "                 onclick=\"copyToClipboard('positive',\n",
       "                          this.parentElement.nextElementSibling)\"\n",
       "            ></i></td>\n",
       "            <td class=\"param\">positive&nbsp;</td>\n",
       "            <td class=\"value\">False</td>\n",
       "        </tr>\n",
       "    \n",
       "                  </tbody>\n",
       "                </table>\n",
       "            </details>\n",
       "        </div>\n",
       "    </div></div></div></div></div><script>function copyToClipboard(text, element) {\n",
       "    // Get the parameter prefix from the closest toggleable content\n",
       "    const toggleableContent = element.closest('.sk-toggleable__content');\n",
       "    const paramPrefix = toggleableContent ? toggleableContent.dataset.paramPrefix : '';\n",
       "    const fullParamName = paramPrefix ? `${paramPrefix}${text}` : text;\n",
       "\n",
       "    const originalStyle = element.style;\n",
       "    const computedStyle = window.getComputedStyle(element);\n",
       "    const originalWidth = computedStyle.width;\n",
       "    const originalHTML = element.innerHTML.replace('Copied!', '');\n",
       "\n",
       "    navigator.clipboard.writeText(fullParamName)\n",
       "        .then(() => {\n",
       "            element.style.width = originalWidth;\n",
       "            element.style.color = 'green';\n",
       "            element.innerHTML = \"Copied!\";\n",
       "\n",
       "            setTimeout(() => {\n",
       "                element.innerHTML = originalHTML;\n",
       "                element.style = originalStyle;\n",
       "            }, 2000);\n",
       "        })\n",
       "        .catch(err => {\n",
       "            console.error('Failed to copy:', err);\n",
       "            element.style.color = 'red';\n",
       "            element.innerHTML = \"Failed!\";\n",
       "            setTimeout(() => {\n",
       "                element.innerHTML = originalHTML;\n",
       "                element.style = originalStyle;\n",
       "            }, 2000);\n",
       "        });\n",
       "    return false;\n",
       "}\n",
       "\n",
       "document.querySelectorAll('.fa-regular.fa-copy').forEach(function(element) {\n",
       "    const toggleableContent = element.closest('.sk-toggleable__content');\n",
       "    const paramPrefix = toggleableContent ? toggleableContent.dataset.paramPrefix : '';\n",
       "    const paramName = element.parentElement.nextElementSibling.textContent.trim();\n",
       "    const fullParamName = paramPrefix ? `${paramPrefix}${paramName}` : paramName;\n",
       "\n",
       "    element.setAttribute('title', fullParamName);\n",
       "});\n",
       "</script></body>"
      ]
     },
     "execution_count": 26,
     "metadata": {},
     "output_type": "execute_result"
    }
   ],
   "execution_count": 26
  },
  {
   "metadata": {
    "ExecuteTime": {
     "end_time": "2025-09-20T16:37:22.492092Z",
     "start_time": "2025-09-20T16:37:22.467078Z"
    }
   },
   "cell_type": "code",
   "source": [
    "predictions2 = linear_model2.predict(X_test)\n",
    "y_pred=linear_model2.predict(X_test)\n",
    "mse2=mean_squared_error(y_test,    y_pred)\n",
    "print(\"Newly trained Linear Regression Model's results:\")\n",
    "print(f\"Root Mean Squared Error: {mse2}\")\n",
    "r_squared = linear_model2.score(X_test, y_test)\n",
    "print(f\"R2 Score of Linear Regression Model: {r_squared}\")\n"
   ],
   "id": "7d641a6a638a1990",
   "outputs": [
    {
     "name": "stdout",
     "output_type": "stream",
     "text": [
      "Newly trained Linear Regression Model's results:\n",
      "Root Mean Squared Error: 6.794852159561367\n",
      "R2 Score of Linear Regression Model: 0.565924065468113\n"
     ]
    }
   ],
   "execution_count": 27
  },
  {
   "metadata": {
    "ExecuteTime": {
     "end_time": "2025-09-20T16:37:23.026894Z",
     "start_time": "2025-09-20T16:37:22.581322Z"
    }
   },
   "cell_type": "code",
   "source": [
    "#Visualizing Prediction of Linear Regression Model with 5 features\n",
    "plt.scatter(y_test, y_pred, color=\"green\", label=\"Predicted vs Actual\")\n",
    "line = np.linspace(min(y_test), max(y_test), 100)\n",
    "plt.plot(line, line, color=\"red\", label=\"Perfect Prediction Line\")\n",
    "plt.xlabel(\"Actual Exam Scores\")\n",
    "plt.ylabel(\"Predicted Exam Scores\")\n",
    "plt.title(\"Linear Regression: Actual vs Predicted\")\n",
    "plt.legend()\n",
    "plt.grid()\n",
    "plt.show()"
   ],
   "id": "5530e68735846da3",
   "outputs": [
    {
     "data": {
      "text/plain": [
       "<Figure size 640x480 with 1 Axes>"
      ],
      "image/png": "[encoded data removed]"
     },
     "metadata": {},
     "output_type": "display_data"
    }
   ],
   "execution_count": 28
  },
  {
   "metadata": {
    "ExecuteTime": {
     "end_time": "2025-09-20T16:37:23.088630Z",
     "start_time": "2025-09-20T16:37:23.068863Z"
    }
   },
   "cell_type": "code",
   "source": [
    "#Polynomial Regression\n",
    "poly_model2 = LinearRegression()\n",
    "poly_model2.fit(X_train_poly,Y_train)\n",
    "p_predictions2 = poly_model2.predict(X_test_poly)\n",
    "p_mse2 = mean_squared_error(Y_test, p_predictions2)\n",
    "p_r_square2 = poly_model2.score(X_test_poly,Y_test)\n",
    "print(\"Newly trained Polynomial Regression Model's results:\")\n",
    "print(f\"Mean Squared Error:{p_mse2}\")\n",
    "print(f\"R2 Score of Polynomial Regression Model: {p_r_square2}\")"
   ],
   "id": "f6098ebce04c9d95",
   "outputs": [
    {
     "name": "stdout",
     "output_type": "stream",
     "text": [
      "Newly trained Polynomial Regression Model's results:\n",
      "Mean Squared Error:12.920018900789945\n",
      "R2 Score of Polynomial Regression Model: 0.17462968334956785\n"
     ]
    }
   ],
   "execution_count": 29
  },
  {
   "metadata": {
    "ExecuteTime": {
     "end_time": "2025-09-20T16:37:23.832915Z",
     "start_time": "2025-09-20T16:37:23.205089Z"
    }
   },
   "cell_type": "code",
   "source": [
    "#Visualizing Prediction of Polynomial Regression Model with 5 features\n",
    "plt.scatter(Y_test, p_predictions2, color=\"blue\", label=\"Predicted vs Actual\")\n",
    "line = np.linspace(min(Y_test), max(Y_test), 100)\n",
    "plt.plot(line, line, color=\"red\", label=\"Perfect Prediction Line\")\n",
    "plt.xlabel(\"Actual Exam Scores\")\n",
    "plt.ylabel(\"Predicted Exam Scores\")\n",
    "plt.title(\"Polynomial Regression: Actual vs Predicted\")\n",
    "plt.legend()\n",
    "plt.grid()\n",
    "plt.show()"
   ],
   "id": "868bc90b811e8d26",
   "outputs": [
    {
     "data": {
      "text/plain": [
       "<Figure size 640x480 with 1 Axes>"
      ],
      "image/png": "[encoded data removed]"
     },
     "metadata": {},
     "output_type": "display_data"
    }
   ],
   "execution_count": 30
  },
  {
   "metadata": {},
   "cell_type": "markdown",
   "source": [
    "----------------------------------------------------------------------------------------------------------------------\n",
    "# Conclusion\n",
    "Linear Regression vs Polynomial Regression (with 5 additional input features)\n",
    "\n",
    "Based on the evaluation results, the Linear Regression model performed significantly better than the Polynomial Regression model.\n",
    "\n",
    "\n",
    "- Linear Regression Model:\n",
    "\n",
    "    Mean Squared Error: 6.794852159561367\n",
    "\n",
    "    R² Score: 0.565924065468113\n",
    "\n",
    "\n",
    "- Polynomial Regression Model:\n",
    "\n",
    "    Mean Squared Error : 12.920018900789945\n",
    "\n",
    "    R² Score: 0.17462968334956785\n",
    "\n",
    "Final Statement:\n",
    "Adding 5 extra features improved Linear Regression substantially, while Polynomial Regression still failed to generalize well. Therefore, Linear Regression is the preferred model.\n",
    "\n",
    "-----------------------------------------------------------------------------------------------------------------------"
   ],
   "id": "1f056677a6d26ddd"
  },
  {
   "metadata": {},
   "cell_type": "markdown",
   "source": [
    "______________________________________________________________________________________________________________________\n",
    "# Now adding categorical columns also\n",
    "_______________________________________________________________________________________________________________________"
   ],
   "id": "f404dbfb97b8a690"
  },
  {
   "metadata": {
    "ExecuteTime": {
     "end_time": "2025-09-20T16:37:24.168585Z",
     "start_time": "2025-09-20T16:37:23.913870Z"
    }
   },
   "cell_type": "code",
   "source": [
    "#Converting categorical columns to numeric\n",
    "cat_cols = df.select_dtypes(include=\"object\").columns.tolist()\n",
    "df_encoded = pd.get_dummies(df, columns=cat_cols, drop_first=True)\n",
    "df_encoded.head()"
   ],
   "id": "70950d427a88ab45",
   "outputs": [
    {
     "data": {
      "text/plain": [
       "   Hours_Studied  Attendance  Sleep_Hours  Previous_Scores  Tutoring_Sessions  \\\n",
       "0             23          84            7               73                  0   \n",
       "1             19          64            8               59                  2   \n",
       "2             24          98            7               91                  2   \n",
       "3             29          89            8               98                  1   \n",
       "4             19          92            6               65                  3   \n",
       "\n",
       "   Physical_Activity  Exam_Score  Parental_Involvement_Low  \\\n",
       "0                  3          67                      True   \n",
       "1                  4          61                      True   \n",
       "2                  4          74                     False   \n",
       "3                  4          71                      True   \n",
       "4                  4          70                     False   \n",
       "\n",
       "   Parental_Involvement_Medium  Access_to_Resources_Low  ...  \\\n",
       "0                        False                    False  ...   \n",
       "1                        False                    False  ...   \n",
       "2                         True                    False  ...   \n",
       "3                        False                    False  ...   \n",
       "4                         True                    False  ...   \n",
       "\n",
       "   Teacher_Quality_Medium  School_Type_Public  Peer_Influence_Neutral  \\\n",
       "0                    True                True                   False   \n",
       "1                    True                True                   False   \n",
       "2                    True                True                    True   \n",
       "3                    True                True                   False   \n",
       "4                   False                True                    True   \n",
       "\n",
       "   Peer_Influence_Positive  Learning_Disabilities_Yes  \\\n",
       "0                     True                      False   \n",
       "1                    False                      False   \n",
       "2                    False                      False   \n",
       "3                    False                      False   \n",
       "4                    False                      False   \n",
       "\n",
       "   Parental_Education_Level_High School  \\\n",
       "0                                  True   \n",
       "1                                 False   \n",
       "2                                 False   \n",
       "3                                  True   \n",
       "4                                 False   \n",
       "\n",
       "   Parental_Education_Level_Postgraduate  Distance_from_Home_Moderate  \\\n",
       "0                                  False                        False   \n",
       "1                                  False                         True   \n",
       "2                                   True                        False   \n",
       "3                                  False                         True   \n",
       "4                                  False                        False   \n",
       "\n",
       "   Distance_from_Home_Near  Gender_Male  \n",
       "0                     True         True  \n",
       "1                    False        False  \n",
       "2                     True         True  \n",
       "3                    False         True  \n",
       "4                     True        False  \n",
       "\n",
       "[5 rows x 28 columns]"
      ],
      "text/html": [
       "<div>\n",
       "<style scoped>\n",
       "    .dataframe tbody tr th:only-of-type {\n",
       "        vertical-align: middle;\n",
       "    }\n",
       "\n",
       "    .dataframe tbody tr th {\n",
       "        vertical-align: top;\n",
       "    }\n",
       "\n",
       "    .dataframe thead th {\n",
       "        text-align: right;\n",
       "    }\n",
       "</style>\n",
       "<table border=\"1\" class=\"dataframe\">\n",
       "  <thead>\n",
       "    <tr style=\"text-align: right;\">\n",
       "      <th></th>\n",
       "      <th>Hours_Studied</th>\n",
       "      <th>Attendance</th>\n",
       "      <th>Sleep_Hours</th>\n",
       "      <th>Previous_Scores</th>\n",
       "      <th>Tutoring_Sessions</th>\n",
       "      <th>Physical_Activity</th>\n",
       "      <th>Exam_Score</th>\n",
       "      <th>Parental_Involvement_Low</th>\n",
       "      <th>Parental_Involvement_Medium</th>\n",
       "      <th>Access_to_Resources_Low</th>\n",
       "      <th>...</th>\n",
       "      <th>Teacher_Quality_Medium</th>\n",
       "      <th>School_Type_Public</th>\n",
       "      <th>Peer_Influence_Neutral</th>\n",
       "      <th>Peer_Influence_Positive</th>\n",
       "      <th>Learning_Disabilities_Yes</th>\n",
       "      <th>Parental_Education_Level_High School</th>\n",
       "      <th>Parental_Education_Level_Postgraduate</th>\n",
       "      <th>Distance_from_Home_Moderate</th>\n",
       "      <th>Distance_from_Home_Near</th>\n",
       "      <th>Gender_Male</th>\n",
       "    </tr>\n",
       "  </thead>\n",
       "  <tbody>\n",
       "    <tr>\n",
       "      <th>0</th>\n",
       "      <td>23</td>\n",
       "      <td>84</td>\n",
       "      <td>7</td>\n",
       "      <td>73</td>\n",
       "      <td>0</td>\n",
       "      <td>3</td>\n",
       "      <td>67</td>\n",
       "      <td>True</td>\n",
       "      <td>False</td>\n",
       "      <td>False</td>\n",
       "      <td>...</td>\n",
       "      <td>True</td>\n",
       "      <td>True</td>\n",
       "      <td>False</td>\n",
       "      <td>True</td>\n",
       "      <td>False</td>\n",
       "      <td>True</td>\n",
       "      <td>False</td>\n",
       "      <td>False</td>\n",
       "      <td>True</td>\n",
       "      <td>True</td>\n",
       "    </tr>\n",
       "    <tr>\n",
       "      <th>1</th>\n",
       "      <td>19</td>\n",
       "      <td>64</td>\n",
       "      <td>8</td>\n",
       "      <td>59</td>\n",
       "      <td>2</td>\n",
       "      <td>4</td>\n",
       "      <td>61</td>\n",
       "      <td>True</td>\n",
       "      <td>False</td>\n",
       "      <td>False</td>\n",
       "      <td>...</td>\n",
       "      <td>True</td>\n",
       "      <td>True</td>\n",
       "      <td>False</td>\n",
       "      <td>False</td>\n",
       "      <td>False</td>\n",
       "      <td>False</td>\n",
       "      <td>False</td>\n",
       "      <td>True</td>\n",
       "      <td>False</td>\n",
       "      <td>False</td>\n",
       "    </tr>\n",
       "    <tr>\n",
       "      <th>2</th>\n",
       "      <td>24</td>\n",
       "      <td>98</td>\n",
       "      <td>7</td>\n",
       "      <td>91</td>\n",
       "      <td>2</td>\n",
       "      <td>4</td>\n",
       "      <td>74</td>\n",
       "      <td>False</td>\n",
       "      <td>True</td>\n",
       "      <td>False</td>\n",
       "      <td>...</td>\n",
       "      <td>True</td>\n",
       "      <td>True</td>\n",
       "      <td>True</td>\n",
       "      <td>False</td>\n",
       "      <td>False</td>\n",
       "      <td>False</td>\n",
       "      <td>True</td>\n",
       "      <td>False</td>\n",
       "      <td>True</td>\n",
       "      <td>True</td>\n",
       "    </tr>\n",
       "    <tr>\n",
       "      <th>3</th>\n",
       "      <td>29</td>\n",
       "      <td>89</td>\n",
       "      <td>8</td>\n",
       "      <td>98</td>\n",
       "      <td>1</td>\n",
       "      <td>4</td>\n",
       "      <td>71</td>\n",
       "      <td>True</td>\n",
       "      <td>False</td>\n",
       "      <td>False</td>\n",
       "      <td>...</td>\n",
       "      <td>True</td>\n",
       "      <td>True</td>\n",
       "      <td>False</td>\n",
       "      <td>False</td>\n",
       "      <td>False</td>\n",
       "      <td>True</td>\n",
       "      <td>False</td>\n",
       "      <td>True</td>\n",
       "      <td>False</td>\n",
       "      <td>True</td>\n",
       "    </tr>\n",
       "    <tr>\n",
       "      <th>4</th>\n",
       "      <td>19</td>\n",
       "      <td>92</td>\n",
       "      <td>6</td>\n",
       "      <td>65</td>\n",
       "      <td>3</td>\n",
       "      <td>4</td>\n",
       "      <td>70</td>\n",
       "      <td>False</td>\n",
       "      <td>True</td>\n",
       "      <td>False</td>\n",
       "      <td>...</td>\n",
       "      <td>False</td>\n",
       "      <td>True</td>\n",
       "      <td>True</td>\n",
       "      <td>False</td>\n",
       "      <td>False</td>\n",
       "      <td>False</td>\n",
       "      <td>False</td>\n",
       "      <td>False</td>\n",
       "      <td>True</td>\n",
       "      <td>False</td>\n",
       "    </tr>\n",
       "  </tbody>\n",
       "</table>\n",
       "<p>5 rows × 28 columns</p>\n",
       "</div>"
      ]
     },
     "execution_count": 31,
     "metadata": {},
     "output_type": "execute_result"
    }
   ],
   "execution_count": 31
  },
  {
   "metadata": {
    "ExecuteTime": {
     "end_time": "2025-09-20T16:37:25.294331Z",
     "start_time": "2025-09-20T16:37:25.158142Z"
    }
   },
   "cell_type": "code",
   "source": "df_encoded.columns",
   "id": "45fd4c50ca6c83ce",
   "outputs": [
    {
     "data": {
      "text/plain": [
       "Index(['Hours_Studied', 'Attendance', 'Sleep_Hours', 'Previous_Scores',\n",
       "       'Tutoring_Sessions', 'Physical_Activity', 'Exam_Score',\n",
       "       'Parental_Involvement_Low', 'Parental_Involvement_Medium',\n",
       "       'Access_to_Resources_Low', 'Access_to_Resources_Medium',\n",
       "       'Extracurricular_Activities_Yes', 'Motivation_Level_Low',\n",
       "       'Motivation_Level_Medium', 'Internet_Access_Yes', 'Family_Income_Low',\n",
       "       'Family_Income_Medium', 'Teacher_Quality_Low', 'Teacher_Quality_Medium',\n",
       "       'School_Type_Public', 'Peer_Influence_Neutral',\n",
       "       'Peer_Influence_Positive', 'Learning_Disabilities_Yes',\n",
       "       'Parental_Education_Level_High School',\n",
       "       'Parental_Education_Level_Postgraduate', 'Distance_from_Home_Moderate',\n",
       "       'Distance_from_Home_Near', 'Gender_Male'],\n",
       "      dtype='object')"
      ]
     },
     "execution_count": 32,
     "metadata": {},
     "output_type": "execute_result"
    }
   ],
   "execution_count": 32
  },
  {
   "metadata": {
    "ExecuteTime": {
     "end_time": "2025-09-20T16:37:27.668352Z",
     "start_time": "2025-09-20T16:37:27.656847Z"
    }
   },
   "cell_type": "code",
   "source": [
    "features = [\n",
    "    \"Hours_Studied\",\n",
    "    \"Attendance\",\n",
    "    \"Sleep_Hours\",\n",
    "    \"Previous_Scores\",\n",
    "    \"Tutoring_Sessions\",\n",
    "    \"Parental_Involvement_Medium\",\n",
    "    \"Access_to_Resources_Medium\",\n",
    "    \"Internet_Access_Yes\",\n",
    "    \"Teacher_Quality_Medium\",\n",
    "    \"School_Type_Public\"\n",
    "]\n",
    "\n",
    "X = df_encoded[features]\n",
    "y = df_encoded[\"Exam_Score\"]\n"
   ],
   "id": "f28f39ae439a17a2",
   "outputs": [],
   "execution_count": 33
  },
  {
   "metadata": {
    "ExecuteTime": {
     "end_time": "2025-09-20T16:37:27.901456Z",
     "start_time": "2025-09-20T16:37:27.696841Z"
    }
   },
   "cell_type": "code",
   "source": [
    "y = df_encoded[\"Exam_Score\"]\n",
    "X = df_encoded[features]\n",
    "X_train, X_test, y_train, y_test = train_test_split(\n",
    "    X, y, test_size=0.2, random_state=42\n",
    ")"
   ],
   "id": "ef851f60be29ebc2",
   "outputs": [],
   "execution_count": 34
  },
  {
   "metadata": {
    "ExecuteTime": {
     "end_time": "2025-09-20T16:37:28.035670Z",
     "start_time": "2025-09-20T16:37:27.931439Z"
    }
   },
   "cell_type": "code",
   "source": [
    "#Training Linear Regression Model\n",
    "linreg3= LinearRegression()\n",
    "linreg3.fit(X_train, y_train)\n",
    "y_pred = linreg3.predict(X_test)\n",
    "\n",
    "print(\"Linear Regression R2 Score:\", r2_score(y_test, y_pred))\n",
    "print(\"Linear Regression MSE:\", mean_squared_error(y_test, y_pred))"
   ],
   "id": "f2c951ea543beae",
   "outputs": [
    {
     "name": "stdout",
     "output_type": "stream",
     "text": [
      "Linear Regression R2 Score: 0.6140220490255885\n",
      "Linear Regression MSE: 6.0419454410663525\n"
     ]
    }
   ],
   "execution_count": 35
  },
  {
   "metadata": {
    "ExecuteTime": {
     "end_time": "2025-09-20T16:37:29.444208Z",
     "start_time": "2025-09-20T16:37:28.166596Z"
    }
   },
   "cell_type": "code",
   "source": [
    "# Visualizing Prediction of Linear Regression Model\n",
    "plt.scatter(y_test, y_pred_linear, color=\"green\", label=\"Predicted vs Actual\")\n",
    "line = np.linspace(min(y_test), max(y_test), 100)\n",
    "plt.plot(line, line, color=\"red\", label=\"Perfect Prediction Line\")\n",
    "plt.xlabel(\"Actual Exam Scores\")\n",
    "plt.ylabel(\"Predicted Exam Scores\")\n",
    "plt.title(\"Linear Regression: Actual vs Predicted\")\n",
    "plt.legend()\n",
    "plt.grid()\n",
    "plt.show()\n"
   ],
   "id": "5baf48c8e73a12c3",
   "outputs": [
    {
     "data": {
      "text/plain": [
       "<Figure size 640x480 with 1 Axes>"
      ],
      "image/png": "[encoded data removed]"
     },
     "metadata": {},
     "output_type": "display_data"
    }
   ],
   "execution_count": 36
  },
  {
   "metadata": {
    "ExecuteTime": {
     "end_time": "2025-09-20T16:37:30.398701Z",
     "start_time": "2025-09-20T16:37:29.955193Z"
    }
   },
   "cell_type": "code",
   "source": [
    "#Training Polynomial Regression Model\n",
    "poly3 = PolynomialFeatures(degree=2)\n",
    "X_train_poly = poly3.fit_transform(X_train)\n",
    "X_test_poly = poly3.transform(X_test)\n",
    "\n",
    "polyreg3 = LinearRegression()\n",
    "polyreg3.fit(X_train_poly, y_train)\n",
    "y_pred_poly = polyreg3.predict(X_test_poly)\n",
    "\n",
    "print(\"Polynomial Regression R2 Score:\", r2_score(y_test, y_pred_poly))\n",
    "print(\"Polynomial Regression MSE:\", mean_squared_error(y_test, y_pred_poly))"
   ],
   "id": "dc1f268d9f514d3d",
   "outputs": [
    {
     "name": "stdout",
     "output_type": "stream",
     "text": [
      "Polynomial Regression R2 Score: 0.6092560841329253\n",
      "Polynomial Regression MSE: 6.11654996130595\n"
     ]
    }
   ],
   "execution_count": 37
  },
  {
   "metadata": {
    "ExecuteTime": {
     "end_time": "2025-09-20T16:37:31.937458Z",
     "start_time": "2025-09-20T16:37:30.760555Z"
    }
   },
   "cell_type": "code",
   "source": [
    "# Visualizing Prediction of Polynomial Regression Model\n",
    "plt.scatter(y_test, y_pred_poly, color=\"blue\", label=\"Predicted vs Actual\")\n",
    "line = np.linspace(min(y_test), max(y_test), 100)\n",
    "plt.plot(line, line, color=\"red\", label=\"Perfect Prediction Line\")\n",
    "plt.xlabel(\"Actual Exam Scores\")\n",
    "plt.ylabel(\"Predicted Exam Scores\")\n",
    "plt.title(\"Polynomial Regression: Actual vs Predicted\")\n",
    "plt.legend()\n",
    "plt.grid()\n",
    "plt.show()\n"
   ],
   "id": "f72ca596bf38a7c1",
   "outputs": [
    {
     "data": {
      "text/plain": [
       "<Figure size 640x480 with 1 Axes>"
      ],
      "image/png": "[encoded data removed]"
     },
     "metadata": {},
     "output_type": "display_data"
    }
   ],
   "execution_count": 38
  },
  {
   "metadata": {},
   "cell_type": "markdown",
   "source": [
    "----------------------------------------------------------------------------------------------------------------------\n",
    "# Conclusion\n",
    "\n",
    "Linear Regression vs Polynomial Regression with 10 features as input\n",
    "\n",
    "Based on the evaluation results, the Linear Regression model performed slightly better than the Polynomial Regression model.\n",
    "\n",
    "- Linear Regression Model:\n",
    "\n",
    "Mean Squared Error (MSE): 6.0419454410663525\n",
    "\n",
    "R² Score: 0.6140220490255885\n",
    "\n",
    "- Polynomial Regression Model:\n",
    "\n",
    "Mean Squared Error (MSE): 6.11654996130595\n",
    "\n",
    "R² Score: 0.6092560841329253\n",
    "\n",
    "Final Statement:\n",
    "Both models performed similarly, but Linear Regression achieved a slightly lower error and higher R² score compared to Polynomial Regression. This indicates that a simple Linear Regression model is sufficient for this dataset, and adding polynomial complexity does not bring meaningful improvement.\n",
    "\n",
    "-----------------------------------------------------------------------------------------------------------------------"
   ],
   "id": "89d10b335d11e1e1"
  },
  {
   "metadata": {},
   "cell_type": "markdown",
   "source": [
    "----------------------------------------------------------------------------------------------------------------------\n",
    "# Predicting Exam Score for New Data using Linear Regression\n",
    "-----------------------------------------------------------------------------------------------------------------------"
   ],
   "id": "33f432b6dcd29353"
  },
  {
   "metadata": {
    "ExecuteTime": {
     "end_time": "2025-09-20T16:37:32.204909Z",
     "start_time": "2025-09-20T16:37:32.194929Z"
    }
   },
   "cell_type": "code",
   "source": [
    "# Random new student data\n",
    "newData={\n",
    "    \"Hours_Studied\": [5],\n",
    "    \"Attendance\": [80],\n",
    "    \"Sleep_Hours\": [7],\n",
    "    \"Previous_Scores\": [70],\n",
    "    \"Tutoring_Sessions\": [2],\n",
    "    \"Parental_Involvement_Medium\": [1],\n",
    "    \"Access_to_Resources_Medium\": [0],\n",
    "    \"Internet_Access_Yes\": [1],\n",
    "    \"Teacher_Quality_Medium\": [1],\n",
    "    \"School_Type_Public\": [0]\n",
    "}\n",
    "df1 = pd.DataFrame(newData)\n",
    "predicted_score = linreg3.predict(df1)\n",
    "print(\"Predicted Exam Score:\", predicted_score[0])\n"
   ],
   "id": "5ef6aec23f9361ec",
   "outputs": [
    {
     "name": "stdout",
     "output_type": "stream",
     "text": [
      "Predicted Exam Score: 62.85455798800392\n"
     ]
    }
   ],
   "execution_count": 39
  },
  {
   "metadata": {},
   "cell_type": "markdown",
   "source": [
    "----------------------------------------------------------------------------------------------------------------------\n",
    "# Another Prediction\n",
    "-----------------------------------------------------------------------------------------------------------------------"
   ],
   "id": "a9cb3cc46128633a"
  },
  {
   "metadata": {
    "ExecuteTime": {
     "end_time": "2025-09-20T16:37:32.335433Z",
     "start_time": "2025-09-20T16:37:32.249172Z"
    }
   },
   "cell_type": "code",
   "source": [
    "newData2={\n",
    "    \"Hours_Studied\": [2],\n",
    "    \"Attendance\": [98],\n",
    "    \"Sleep_Hours\": [5],\n",
    "    \"Previous_Scores\": [68],\n",
    "    \"Tutoring_Sessions\": [1],\n",
    "    \"Parental_Involvement_Medium\": [0],\n",
    "    \"Access_to_Resources_Medium\": [1],\n",
    "    \"Internet_Access_Yes\": [0],\n",
    "    \"Teacher_Quality_Medium\": [1],\n",
    "    \"School_Type_Public\": [1]\n",
    "}\n",
    "df2=pd.DataFrame(newData2)\n",
    "predicted_score2 = linreg3.predict(df2)\n",
    "print(\"Predicted Exam Score:\", predicted_score2[0])"
   ],
   "id": "1786049f4d9ee7ac",
   "outputs": [
    {
     "name": "stdout",
     "output_type": "stream",
     "text": [
      "Predicted Exam Score: 64.10931978178462\n"
     ]
    }
   ],
   "execution_count": 40
  },
  {
   "metadata": {},
   "cell_type": "markdown",
   "source": [
    "----------------------------------------------------------------------------------------------------------------------\n",
    "#  Final Conclusion\n",
    "\n",
    "Through three experimental setups, it was observed that Polynomial Regression consistently failed to improve performance, while Linear Regression improved significantly as more relevant features were added.\n",
    "\n",
    "- With baseline features, both models performed poorly.\n",
    "\n",
    "- With 5 additional features, Linear Regression improved substantially, while Polynomial Regression remained weak.\n",
    "\n",
    "- With 10 features, Linear Regression achieved the best performance with an R² score of 0.614 and the lowest error, slightly outperforming Polynomial Regression.\n",
    "\n",
    "Therefore, the Linear Regression model with 10 input features is the most reliable and effective model for this dataset. It was also chosen for predictions due to its higher accuracy and better generalization ability.\n",
    "\n",
    "-----------------------------------------------------------------------------------------------------------------------"
   ],
   "id": "f9936a6db1ceba12"
  },
  {
   "metadata": {
    "ExecuteTime": {
     "end_time": "2025-09-20T16:37:32.667276Z",
     "start_time": "2025-09-20T16:37:32.392396Z"
    }
   },
   "cell_type": "code",
   "source": [
    "import joblib\n",
    "joblib.dump(linreg3,\"LinearRegression_Model(ExamScorePredictor).joblib\")"
   ],
   "id": "2a6c44108afc2aba",
   "outputs": [
    {
     "ename": "PermissionError",
     "evalue": "[Errno 13] Permission denied: 'LinearRegression_Model(ExamScorePredictor).joblib'",
     "output_type": "error",
     "traceback": [
      "\u001B[31m---------------------------------------------------------------------------\u001B[39m",
      "\u001B[31mPermissionError\u001B[39m                           Traceback (most recent call last)",
      "\u001B[36mCell\u001B[39m\u001B[36m \u001B[39m\u001B[32mIn[41]\u001B[39m\u001B[32m, line 2\u001B[39m\n\u001B[32m      1\u001B[39m \u001B[38;5;28;01mimport\u001B[39;00m\u001B[38;5;250m \u001B[39m\u001B[34;01mjoblib\u001B[39;00m\n\u001B[32m----> \u001B[39m\u001B[32m2\u001B[39m \u001B[43mjoblib\u001B[49m\u001B[43m.\u001B[49m\u001B[43mdump\u001B[49m\u001B[43m(\u001B[49m\u001B[43mlinreg3\u001B[49m\u001B[43m,\u001B[49m\u001B[33;43m\"\u001B[39;49m\u001B[33;43mLinearRegression_Model(ExamScorePredictor).joblib\u001B[39;49m\u001B[33;43m\"\u001B[39;49m\u001B[43m)\u001B[49m\n",
      "\u001B[36mFile \u001B[39m\u001B[32mD:\\Elovvo\\.venv\\Lib\\site-packages\\joblib\\numpy_pickle.py:599\u001B[39m, in \u001B[36mdump\u001B[39m\u001B[34m(value, filename, compress, protocol)\u001B[39m\n\u001B[32m    597\u001B[39m         NumpyPickler(f, protocol=protocol).dump(value)\n\u001B[32m    598\u001B[39m \u001B[38;5;28;01melif\u001B[39;00m is_filename:\n\u001B[32m--> \u001B[39m\u001B[32m599\u001B[39m     \u001B[38;5;28;01mwith\u001B[39;00m \u001B[38;5;28;43mopen\u001B[39;49m\u001B[43m(\u001B[49m\u001B[43mfilename\u001B[49m\u001B[43m,\u001B[49m\u001B[43m \u001B[49m\u001B[33;43m\"\u001B[39;49m\u001B[33;43mwb\u001B[39;49m\u001B[33;43m\"\u001B[39;49m\u001B[43m)\u001B[49m \u001B[38;5;28;01mas\u001B[39;00m f:\n\u001B[32m    600\u001B[39m         NumpyPickler(f, protocol=protocol).dump(value)\n\u001B[32m    601\u001B[39m \u001B[38;5;28;01melse\u001B[39;00m:\n",
      "\u001B[31mPermissionError\u001B[39m: [Errno 13] Permission denied: 'LinearRegression_Model(ExamScorePredictor).joblib'"
     ]
    }
   ],
   "execution_count": 41
  }
 ],
 "metadata": {
  "kernelspec": {
   "display_name": "Python 3",
   "language": "python",
   "name": "python3"
  },
  "language_info": {
   "codemirror_mode": {
    "name": "ipython",
    "version": 2
   },
   "file_extension": ".py",
   "mimetype": "text/x-python",
   "name": "python",
   "nbconvert_exporter": "python",
   "pygments_lexer": "ipython2",
   "version": "2.7.6"
  }
 },
 "nbformat": 4,
 "nbformat_minor": 5
}
